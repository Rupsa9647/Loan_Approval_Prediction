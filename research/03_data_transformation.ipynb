{
 "metadata": {
  "language_info": {
   "codemirror_mode": {
    "name": "ipython",
    "version": 3
   },
   "file_extension": ".py",
   "mimetype": "text/x-python",
   "name": "python",
   "nbconvert_exporter": "python",
   "pygments_lexer": "ipython3",
   "version": "3.12.7"
  },
  "orig_nbformat": 4,
  "kernelspec": {
   "name": "python3",
   "display_name": "Python 3.12.7 64-bit ('myenv': venv)"
  },
  "interpreter": {
   "hash": "b1afeaef46a0a774c5943b0888e96833001fbce2d7bafab38ffff98f711cee69"
  }
 },
 "nbformat": 4,
 "nbformat_minor": 2,
 "cells": [
  {
   "cell_type": "code",
   "execution_count": 1,
   "metadata": {},
   "outputs": [],
   "source": [
    "import os"
   ]
  },
  {
   "cell_type": "code",
   "execution_count": 2,
   "metadata": {},
   "outputs": [
    {
     "output_type": "execute_result",
     "data": {
      "text/plain": [
       "'d:\\\\Loan_Approval_Prediction\\\\research'"
      ]
     },
     "metadata": {},
     "execution_count": 2
    }
   ],
   "source": [
    "%pwd"
   ]
  },
  {
   "cell_type": "code",
   "execution_count": 5,
   "metadata": {},
   "outputs": [],
   "source": [
    "os.chdir(\"../\")"
   ]
  },
  {
   "cell_type": "code",
   "execution_count": 6,
   "metadata": {},
   "outputs": [
    {
     "output_type": "execute_result",
     "data": {
      "text/plain": [
       "'d:\\\\Loan_Approval_Prediction'"
      ]
     },
     "metadata": {},
     "execution_count": 6
    }
   ],
   "source": [
    "%pwd"
   ]
  },
  {
   "cell_type": "code",
   "execution_count": 9,
   "metadata": {},
   "outputs": [],
   "source": [
    "from dataclasses import dataclass\n",
    "from pathlib import Path\n",
    "\n",
    "\n",
    "@dataclass(frozen=True)\n",
    "class DataTransformationConfig:\n",
    "    root_dir: Path\n",
    "    data_path: Path"
   ]
  },
  {
   "cell_type": "code",
   "execution_count": 10,
   "metadata": {},
   "outputs": [],
   "source": [
    "from mlProject.constants import *\n",
    "from mlProject.utils.common import read_yaml, create_directories"
   ]
  },
  {
   "cell_type": "code",
   "execution_count": 11,
   "metadata": {},
   "outputs": [],
   "source": [
    "class ConfigurationManager:\n",
    "    def __init__(\n",
    "        self,\n",
    "        config_filepath = CONFIG_FILE_PATH,\n",
    "        params_filepath = PARAMS_FILE_PATH,\n",
    "        schema_filepath = SCHEMA_FILE_PATH):\n",
    "\n",
    "        self.config = read_yaml(config_filepath)\n",
    "        self.params = read_yaml(params_filepath)\n",
    "        self.schema = read_yaml(schema_filepath)\n",
    "\n",
    "        create_directories([self.config.artifacts_root])\n",
    "\n",
    "\n",
    "    \n",
    "    def get_data_transformation_config(self) -> DataTransformationConfig:\n",
    "        config = self.config.data_transformation\n",
    "\n",
    "        create_directories([config.root_dir])\n",
    "\n",
    "        data_transformation_config = DataTransformationConfig(\n",
    "            root_dir=config.root_dir,\n",
    "            data_path=config.data_path,\n",
    "        )\n",
    "\n",
    "        return data_transformation_config"
   ]
  },
  {
   "cell_type": "code",
   "execution_count": 12,
   "metadata": {},
   "outputs": [],
   "source": [
    "import os\n",
    "from mlProject import logger\n",
    "from sklearn.model_selection import train_test_split\n",
    "import pandas as pd"
   ]
  },
  {
   "cell_type": "code",
   "execution_count": 13,
   "metadata": {},
   "outputs": [],
   "source": [
    "def clean_data(st):\n",
    "    st = st.strip()\n",
    "    return st"
   ]
  },
  {
   "cell_type": "code",
   "execution_count": 14,
   "metadata": {},
   "outputs": [],
   "source": [
    "class DataTransformation:\n",
    "    def __init__(self, config: DataTransformationConfig):\n",
    "        self.config = config\n",
    "\n",
    "    def train_test_spliting(self):\n",
    "        # Load raw data\n",
    "        df = pd.read_csv(self.config.data_path)\n",
    "        df.columns = df.columns.str.strip().str.lower().str.replace(\" \", \"_\")\n",
    "        # -------------------------\n",
    "        # ✅ Data Preprocessing\n",
    "        # -------------------------\n",
    "        df.education = df.education.apply(clean_data)\n",
    "        df.self_employed = df.self_employed.apply(clean_data)\n",
    "        df.loan_status = df.loan_status.apply(clean_data)\n",
    "        df['education'] = df['education'].astype('category')\n",
    "        df['self_employed'] = df['self_employed'].astype('category')\n",
    "        df['loan_status'] = df['loan_status'].astype('category')\n",
    "         # Encode categorical variables\n",
    "        df.self_employed = df.self_employed.replace(['No', 'Yes'],[0,1])\n",
    "        df.loan_status = df.loan_status.replace(['Approved', 'Rejected'],[1,0])\n",
    "        df['education'] = df['education'].replace(['Graduate', 'Not Graduate'],[1,0])\n",
    "        # Feature engineering: create total_assets\n",
    "        df['total_assets'] = (\n",
    "            df['residential_assets_value'] +\n",
    "            df['commercial_assets_value'] +\n",
    "            df['luxury_assets_value'] +\n",
    "            df['bank_asset_value']\n",
    "        )\n",
    "\n",
    "        # Drop unnecessary columns\n",
    "        df = df.drop(columns=[\n",
    "            'loan_id',\n",
    "            'residential_assets_value',\n",
    "            'commercial_assets_value',\n",
    "            'luxury_assets_value',\n",
    "            'bank_asset_value'\n",
    "        ])\n",
    "\n",
    "        # -------------------------\n",
    "        # ✅ Train-test split\n",
    "        # -------------------------\n",
    "        from sklearn.model_selection import train_test_split\n",
    "        train, test = train_test_split(df, test_size=0.25, random_state=42)\n",
    "\n",
    "        # Save to artifacts directory\n",
    "        train.to_csv(os.path.join(self.config.root_dir, \"train.csv\"), index=False)\n",
    "        test.to_csv(os.path.join(self.config.root_dir, \"test.csv\"), index=False)\n",
    "\n",
    "        logger.info(\"Encoded & engineered data, then split into training and test sets\")\n",
    "        logger.info(train.shape)\n",
    "        logger.info(test.shape)\n",
    "\n",
    "        print(train.shape)\n",
    "        print(test.shape)\n",
    "        print(df.columns)\n",
    "        print(df.head(4))\n"
   ]
  },
  {
   "cell_type": "code",
   "execution_count": 15,
   "metadata": {},
   "outputs": [
    {
     "output_type": "stream",
     "name": "stdout",
     "text": [
      "[2025-09-03 22:28:09,597: INFO: common: yaml file: config\\config.yaml loaded successfully]\n",
      "[2025-09-03 22:28:09,599: INFO: common: yaml file: params.yaml loaded successfully]\n",
      "[2025-09-03 22:28:09,602: INFO: common: yaml file: schema.yaml loaded successfully]\n",
      "[2025-09-03 22:28:09,603: INFO: common: created directory at: artifacts]\n",
      "[2025-09-03 22:28:09,604: INFO: common: created directory at: artifacts/data_transformation]\n",
      "[2025-09-03 22:28:09,669: INFO: 2684419802: Encoded & engineered data, then split into training and test sets]\n",
      "[2025-09-03 22:28:09,670: INFO: 2684419802: (3201, 9)]\n",
      "[2025-09-03 22:28:09,672: INFO: 2684419802: (1068, 9)]\n",
      "(3201, 9)\n",
      "(1068, 9)\n",
      "Index(['no_of_dependents', 'education', 'self_employed', 'income_annum',\n",
      "       'loan_amount', 'loan_term', 'cibil_score', 'loan_status',\n",
      "       'total_assets'],\n",
      "      dtype='object')\n",
      "   no_of_dependents education self_employed  income_annum  loan_amount  \\\n",
      "0                 2         1             0       9600000     29900000   \n",
      "1                 0         0             1       4100000     12200000   \n",
      "2                 3         1             0       9100000     29700000   \n",
      "3                 3         1             0       8200000     30700000   \n",
      "\n",
      "   loan_term  cibil_score loan_status  total_assets  \n",
      "0         12          778           1      50700000  \n",
      "1          8          417           0      17000000  \n",
      "2         20          506           0      57700000  \n",
      "3          8          467           0      52700000  \n",
      "C:\\Users\\pc\\AppData\\Local\\Temp\\ipykernel_11700\\2684419802.py:19: FutureWarning: Downcasting behavior in `replace` is deprecated and will be removed in a future version. To retain the old behavior, explicitly call `result.infer_objects(copy=False)`. To opt-in to the future behavior, set `pd.set_option('future.no_silent_downcasting', True)`\n",
      "  df.self_employed = df.self_employed.replace(['No', 'Yes'],[0,1])\n",
      "C:\\Users\\pc\\AppData\\Local\\Temp\\ipykernel_11700\\2684419802.py:19: FutureWarning: The behavior of Series.replace (and DataFrame.replace) with CategoricalDtype is deprecated. In a future version, replace will only be used for cases that preserve the categories. To change the categories, use ser.cat.rename_categories instead.\n",
      "  df.self_employed = df.self_employed.replace(['No', 'Yes'],[0,1])\n",
      "C:\\Users\\pc\\AppData\\Local\\Temp\\ipykernel_11700\\2684419802.py:20: FutureWarning: Downcasting behavior in `replace` is deprecated and will be removed in a future version. To retain the old behavior, explicitly call `result.infer_objects(copy=False)`. To opt-in to the future behavior, set `pd.set_option('future.no_silent_downcasting', True)`\n",
      "  df.loan_status = df.loan_status.replace(['Approved', 'Rejected'],[1,0])\n",
      "C:\\Users\\pc\\AppData\\Local\\Temp\\ipykernel_11700\\2684419802.py:20: FutureWarning: The behavior of Series.replace (and DataFrame.replace) with CategoricalDtype is deprecated. In a future version, replace will only be used for cases that preserve the categories. To change the categories, use ser.cat.rename_categories instead.\n",
      "  df.loan_status = df.loan_status.replace(['Approved', 'Rejected'],[1,0])\n",
      "C:\\Users\\pc\\AppData\\Local\\Temp\\ipykernel_11700\\2684419802.py:21: FutureWarning: Downcasting behavior in `replace` is deprecated and will be removed in a future version. To retain the old behavior, explicitly call `result.infer_objects(copy=False)`. To opt-in to the future behavior, set `pd.set_option('future.no_silent_downcasting', True)`\n",
      "  df['education'] = df['education'].replace(['Graduate', 'Not Graduate'],[1,0])\n",
      "C:\\Users\\pc\\AppData\\Local\\Temp\\ipykernel_11700\\2684419802.py:21: FutureWarning: The behavior of Series.replace (and DataFrame.replace) with CategoricalDtype is deprecated. In a future version, replace will only be used for cases that preserve the categories. To change the categories, use ser.cat.rename_categories instead.\n",
      "  df['education'] = df['education'].replace(['Graduate', 'Not Graduate'],[1,0])\n"
     ]
    }
   ],
   "source": [
    "try:\n",
    "    config = ConfigurationManager()\n",
    "    data_transformation_config = config.get_data_transformation_config()\n",
    "    data_transformation = DataTransformation(config=data_transformation_config)\n",
    "    data_transformation.train_test_spliting()\n",
    "except Exception as e:\n",
    "    raise e"
   ]
  },
  {
   "cell_type": "code",
   "execution_count": null,
   "metadata": {},
   "outputs": [],
   "source": []
  }
 ]
}